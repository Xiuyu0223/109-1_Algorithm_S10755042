{
  "nbformat": 4,
  "nbformat_minor": 0,
  "metadata": {
    "colab": {
      "name": "1118期中考.ipynb",
      "provenance": [],
      "collapsed_sections": [],
      "authorship_tag": "ABX9TyN43v7fY8SrnFVWOO49Q33W",
      "include_colab_link": true
    },
    "kernelspec": {
      "name": "python3",
      "display_name": "Python 3"
    }
  },
  "cells": [
    {
      "cell_type": "markdown",
      "metadata": {
        "id": "view-in-github",
        "colab_type": "text"
      },
      "source": [
        "<a href=\"https://colab.research.google.com/github/Xiuyu0223/109-1_Algorithm_S10755042/blob/master/1118%E6%9C%9F%E4%B8%AD%E8%80%83.ipynb\" target=\"_parent\"><img src=\"https://colab.research.google.com/assets/colab-badge.svg\" alt=\"Open In Colab\"/></a>"
      ]
    },
    {
      "cell_type": "markdown",
      "metadata": {
        "id": "z69P0m2Z2o6Z"
      },
      "source": [
        "選擇排序法(大到小)"
      ]
    },
    {
      "cell_type": "code",
      "metadata": {
        "colab": {
          "base_uri": "https://localhost:8080/"
        },
        "id": "JUsxJpRg2jkB",
        "outputId": "ea01bedf-c7be-484b-e3ef-379f23bca1dd"
      },
      "source": [
        "import random\n",
        "Numbers=[]    #建立一個空串列儲存要排序的八個隨機數字\n",
        "for i in range(8):    #利用for迴圈產生八個隨機數字\n",
        "  Numbers.append(random.randint(1,100))\n",
        "print(\"原始數列：\" , Numbers) #印出原始陣列\n",
        "\n",
        "for i in range(len(Numbers)):\n",
        "  maxIndex = i  #用一個整數變數maxIndex儲存目前最大的陣列值的索引(每輪的開始會預設是i)\n",
        "  for j in range(i, len(Numbers)):  \n",
        "    if (Numbers[maxIndex]<Numbers[j]):  #假如目前暫存的最大值比Numbers[j]小\n",
        "      maxIndex = j    #則把maxIndex改為j的值\n",
        "  Numbers[i], Numbers[maxIndex] = Numbers[maxIndex], Numbers[i] #互換本輪的最大值與Number[i]的值的位置\n",
        "  print(\"第\",i+1,\"次排序：\",Numbers) #印出每輪的結果\n"
      ],
      "execution_count": null,
      "outputs": [
        {
          "output_type": "stream",
          "text": [
            "原始數列： [18, 54, 25, 81, 72, 2, 44, 17]\n",
            "第 1 次排序： [81, 54, 25, 18, 72, 2, 44, 17]\n",
            "第 2 次排序： [81, 72, 25, 18, 54, 2, 44, 17]\n",
            "第 3 次排序： [81, 72, 54, 18, 25, 2, 44, 17]\n",
            "第 4 次排序： [81, 72, 54, 44, 25, 2, 18, 17]\n",
            "第 5 次排序： [81, 72, 54, 44, 25, 2, 18, 17]\n",
            "第 6 次排序： [81, 72, 54, 44, 25, 18, 2, 17]\n",
            "第 7 次排序： [81, 72, 54, 44, 25, 18, 17, 2]\n",
            "第 8 次排序： [81, 72, 54, 44, 25, 18, 17, 2]\n"
          ],
          "name": "stdout"
        }
      ]
    },
    {
      "cell_type": "markdown",
      "metadata": {
        "id": "p9tuYM742pHs"
      },
      "source": [
        "插入排序法(小到大)"
      ]
    },
    {
      "cell_type": "code",
      "metadata": {
        "colab": {
          "base_uri": "https://localhost:8080/"
        },
        "id": "Sf2eJ_Ob2qgr",
        "outputId": "c4194428-c8ce-416b-90d8-27d438e8049a"
      },
      "source": [
        "import random\n",
        "Numbers=[]    #建立一個空串列儲存要排序的八個隨機數字\n",
        "for i in range(8):    #利用for迴圈產生八個隨機數字\n",
        "  Numbers.append(random.randint(1,100))\n",
        "print(\"原始數列：\" , Numbers) #印出原始陣列\n",
        "\n",
        "\n",
        "\n",
        "for i in range(len(Numbers)):\n",
        "  preIndex = i-1 #用preindex來儲存目前要移動位置的值(初始是i的前一項)\n",
        "  current = Numbers[i]  #用current來儲存目前正在進行排序的值(因為後續移動數列會把Number[i]此項蓋掉，因此需要額外宣告一個變數來儲存)\n",
        "  while preIndex >= 0 and Numbers[preIndex] > current:  #假設前一項不是第0項且前一項的值比目前的值大則進行以下交換\n",
        "    Numbers[preIndex+1] = Numbers[preIndex] #將preindex的下一項和preindex交換值\n",
        "    preIndex-=1 #將preindex-1繼續往前比較直到前一項比目前的小為止\n",
        "          #移動完所有比較大的數值後，則將目前項放進數列中\n",
        "  Numbers[preIndex+1] = current #將preindex的下一項的值設為目前正在進行排序的值\n",
        "  print(\"第\",i+1,\"次排序：\",Numbers)"
      ],
      "execution_count": 1,
      "outputs": [
        {
          "output_type": "stream",
          "text": [
            "原始數列： [46, 54, 99, 68, 52, 69, 33, 21]\n",
            "第 1 次排序： [46, 54, 99, 68, 52, 69, 33, 21]\n",
            "第 2 次排序： [46, 54, 99, 68, 52, 69, 33, 21]\n",
            "第 3 次排序： [46, 54, 99, 68, 52, 69, 33, 21]\n",
            "第 4 次排序： [46, 54, 68, 99, 52, 69, 33, 21]\n",
            "第 5 次排序： [46, 52, 54, 68, 99, 69, 33, 21]\n",
            "第 6 次排序： [46, 52, 54, 68, 69, 99, 33, 21]\n",
            "第 7 次排序： [33, 46, 52, 54, 68, 69, 99, 21]\n",
            "第 8 次排序： [21, 33, 46, 52, 54, 68, 69, 99]\n"
          ],
          "name": "stdout"
        }
      ]
    }
  ]
}