{
  "nbformat": 4,
  "nbformat_minor": 0,
  "metadata": {
    "colab": {
      "name": "20201209_DP_鐵條切割問題.ipynb",
      "provenance": [],
      "collapsed_sections": [],
      "authorship_tag": "ABX9TyMTnjbT/F3sPDg0t8cDfkyF",
      "include_colab_link": true
    },
    "kernelspec": {
      "name": "python3",
      "display_name": "Python 3"
    }
  },
  "cells": [
    {
      "cell_type": "markdown",
      "metadata": {
        "id": "view-in-github",
        "colab_type": "text"
      },
      "source": [
        "<a href=\"https://colab.research.google.com/github/Xiuyu0223/109-1_Algorithm_S10755042/blob/master/20201209_DP_%E9%90%B5%E6%A2%9D%E5%88%87%E5%89%B2%E5%95%8F%E9%A1%8C.ipynb\" target=\"_parent\"><img src=\"https://colab.research.google.com/assets/colab-badge.svg\" alt=\"Open In Colab\"/></a>"
      ]
    },
    {
      "cell_type": "code",
      "metadata": {
        "colab": {
          "base_uri": "https://localhost:8080/"
        },
        "id": "W7tPNATbZdtG",
        "outputId": "872e5c03-1f16-4594-a4b2-a920eea2bd27"
      },
      "source": [
        "def CutRod(p,n):  #p是一個用來儲存價錢表的陣列，n為使用者輸入的鐵條長度\r\n",
        "  if n==0:\r\n",
        "    return 0;  #若n=0回傳0，因為無法切割，return值結束程式\r\n",
        "  q=-9;  #先宣告一個變數q，後面用來存總金額時使用(一開始設成負數，才不會是最大值，影響程式的執行)\r\n",
        "  for i in range(1,n+1):\r\n",
        "    q= max(q, p[i-1]+CutRod(p, n - i))  #將[目前的q的值]和[本輪切割的價錢+剩下長度的價錢(呼叫CutRod(p,n)看是否要切割)]使用max函式比較後，將最大的價錢儲存到q\r\n",
        "  return q; #回傳最大的價錢\r\n",
        "\r\n",
        "price = [1,5,8,9,10,17,17,20,24,30] #價格表\r\n",
        "n = 0\r\n",
        "while( n>10 or n<1 ):\r\n",
        "  n = int(input(\"請輸入鐵條長度(10以內的值)：\"))\r\n",
        "print(\"最高總賣價為\",CutRod(price,n),\"元\")"
      ],
      "execution_count": 27,
      "outputs": [
        {
          "output_type": "stream",
          "text": [
            "請輸入鐵條長度(10以內的值)：22\n",
            "請輸入鐵條長度(10以內的值)：17\n",
            "請輸入鐵條長度(10以內的值)：-8\n",
            "請輸入鐵條長度(10以內的值)：7\n",
            "最高總賣價為 18 元\n"
          ],
          "name": "stdout"
        }
      ]
    }
  ]
}