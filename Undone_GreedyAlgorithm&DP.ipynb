{
  "nbformat": 4,
  "nbformat_minor": 0,
  "metadata": {
    "colab": {
      "name": "20201202_GreedyAlgorithm&DP.ipynb",
      "provenance": [],
      "collapsed_sections": [],
      "authorship_tag": "ABX9TyMWG226Q3+guGfIaZ+hUBaO",
      "include_colab_link": true
    },
    "kernelspec": {
      "name": "python3",
      "display_name": "Python 3"
    }
  },
  "cells": [
    {
      "cell_type": "markdown",
      "metadata": {
        "id": "view-in-github",
        "colab_type": "text"
      },
      "source": [
        "<a href=\"https://colab.research.google.com/github/Xiuyu0223/109-1_Algorithm_S10755042/blob/master/Undone_GreedyAlgorithm%26DP.ipynb\" target=\"_parent\"><img src=\"https://colab.research.google.com/assets/colab-badge.svg\" alt=\"Open In Colab\"/></a>"
      ]
    },
    {
      "cell_type": "markdown",
      "metadata": {
        "id": "3bJDBC3kUDbX"
      },
      "source": [
        "找零問題：Greedy Algorithm\n",
        "---\n"
      ]
    },
    {
      "cell_type": "code",
      "metadata": {
        "colab": {
          "base_uri": "https://localhost:8080/"
        },
        "id": "v3IlW1hkLyZ7",
        "outputId": "a20fe062-38f7-4558-8c47-c08aa76dc952"
      },
      "source": [
        "# t = 面額\n",
        "t = [25, 20, 5, 1]\n",
        "userMoney = int(input(\"請輸入零錢的金額：\"))\n",
        "# n = 多少錢\n",
        "def change(t,n):\n",
        "  m = [0 for _ in range(len(t))]\n",
        "  for i, money in enumerate(t):\n",
        "      m[i] = n // money\n",
        "      n = n % money\n",
        "      print(\"(\",m,\",\",n,\")\")\n",
        "  print(\"[25, 20, 5, 1]的面額分別為\",m,\"個\")\n",
        "change(t,userMoney)\n"
      ],
      "execution_count": null,
      "outputs": [
        {
          "output_type": "stream",
          "text": [
            "請輸入零錢的金額：89\n",
            "( [3, 0, 0, 0] , 14 )\n",
            "( [3, 0, 0, 0] , 14 )\n",
            "( [3, 0, 2, 0] , 4 )\n",
            "( [3, 0, 2, 4] , 0 )\n",
            "[25, 20, 5, 1]的面額分別為 [3, 0, 2, 4] 個\n"
          ],
          "name": "stdout"
        }
      ]
    },
    {
      "cell_type": "markdown",
      "metadata": {
        "id": "NMyLVW9tULPh"
      },
      "source": [
        "找零問題：DP Algorithm -1 ([參考作法](https://www.itread01.com/content/1528096937.html))\n",
        "---\n",
        "一開始想到的儲存找零面額的方式(用遞迴去找，每次取)"
      ]
    },
    {
      "cell_type": "code",
      "metadata": {
        "colab": {
          "base_uri": "https://localhost:8080/"
        },
        "id": "ZmBGjVyZSKhj",
        "outputId": "3ba8a557-7031-4e94-a749-825d7cb812c9"
      },
      "source": [
        "def rec_change(t,n):\n",
        "  change_dict[0] = 0\n",
        "  s = 0 #記錄每次找零的面額\n",
        "\n",
        "  for money in range(1,n+1):\n",
        "    num_of_coins = float('inf') #先將1~n的數量都設成無限大\n",
        "    #print(money,num_of_coins)\n",
        "\n",
        "    for coin in t:  #循序計算每一種面額\n",
        "      if money >= coin: #假設金額比某一個面額大，則執行以下內容\n",
        "        #print(\"money:\",money,\"coin:\",coin)\n",
        "        #print(\"money-coin:\",money-coin,\"change_dict[money-coin]+1:\",change_dict[money-coin]+1,\"num_of_coins:\",num_of_coins,\"s:\",s)\n",
        "        if change_dict[money-coin]+1 < num_of_coins:  #當change_dict[money-coin]-1的值小於num_of_coins的值，代表這個值在前面有被算過，查字典可知道的最小硬幣數比目前的方案好\n",
        "          num_of_coins = change_dict[money-coin]+1  #因此，將此次金額的num_of_coins的值設定為前面已知的change_dict[money-coin]的值+1(這個1是代表1個本輪的這個面額的硬幣)\n",
        "          s = coin  ##記錄本次找零的面額\n",
        "          #print(\"money-coin:\",money-coin,\"change_dict[money-coin]+1:\",change_dict[money-coin]+1,\"num_of_coins:\",num_of_coins,\"s:\",s)\n",
        "    change_dict[money] = num_of_coins #更新字典裡面的資料\n",
        "\n",
        "    #print(\"money-coin:\",money-coin,\"change_dict[money]:\",change_dict[money])\n",
        "\n",
        "  return s, change_dict[n] #回傳s和change_dict[n]的值\n",
        "\n",
        "# n = 多少錢\n",
        "\n",
        "def change(t,n,have_changed):\n",
        "  coin, path_main = rec_change(t,n)\n",
        "  if (have_changed == False):   #若是have_changed的值為False代表是第一次執行change(t,n,have_changed)這個函式，print出要給使用者看的最終結果\n",
        "    print(\"零錢金額：\",n)\n",
        "    print(\"最少硬幣數：\",path_main)\n",
        "    have_changed = True #print完之後設為True\n",
        "\n",
        "    #後續的程式碼是主要為了得到每一層change(t,n,have_changed)的coin值\n",
        "  \n",
        "  s_List.append(coin) #rec_change(t,n)回傳的值coin代表該輪運算得出的一個硬幣面額，為了最終一起呈現給使用者，將coin的值添加到s_List地個陣列當中\n",
        "  if ( (n-coin) > 0 ):\n",
        "    change(t, n-coin, have_changed) #如果相減後不為零，則呼叫自身再執行的遞迴，這一步是為了得到每一層的硬幣面額的coin值而做的\n",
        "\n",
        "  return have_changed #回傳是否是第一層執行(如果已經是第二、三、四、...層，回傳True代表後續不用再執行上面print\"零錢金額、最少硬幣數\"的部分)\n",
        "  \n",
        "\n",
        "# t = 面額\n",
        "t = [25, 20, 5, 1]\n",
        "\n",
        "change_dict={}  #找零的字典，key代表金額，value代表該金額找出的最小硬幣數\n",
        "s_List = []   #用一個陣列來儲存找回的零錢分別是哪些面額\n",
        "have_changed = False  #用一個bool值來提供change判斷是否要print出結果(因為只有要print出第一層，後續呼叫自身的函式是為了得到各個面額的值，並非最終結果，因此此處使用bool值協助判斷)\n",
        "n = int(input(\"請輸入零錢金額：\"))  #使用者自行輸入數值\n",
        "\n",
        "\n",
        "#print(rec_change(t,81))\n",
        "print(\"-----計算結果-----\")\n",
        "have_changed = change(t, n, have_changed)\n",
        "print(\"硬幣面額：\", s_List)\n",
        "#print(change_dict)\n",
        "\n"
      ],
      "execution_count": 45,
      "outputs": [
        {
          "output_type": "stream",
          "text": [
            "請輸入零錢金額：68\n",
            "-----計算結果-----\n",
            "零錢金額： 68\n",
            "最少硬幣數： 6\n",
            "硬幣面額： [25, 20, 20, 1, 1, 1]\n"
          ],
          "name": "stdout"
        }
      ]
    },
    {
      "cell_type": "markdown",
      "metadata": {
        "id": "RqX_-MbzR-3j"
      },
      "source": [
        "找零問題：DP Algorithm - 2 ([參考作法](https://www.itread01.com/content/1528096937.html))\n",
        "---\n",
        "另一種儲存所有找零面額的方式(直接用陣列存全部，取出需要的部分)"
      ]
    },
    {
      "cell_type": "code",
      "metadata": {
        "colab": {
          "base_uri": "https://localhost:8080/"
        },
        "id": "mQis4M9HL9Xb",
        "outputId": "94f89db1-03f8-4508-b0d4-beed688b717e"
      },
      "source": [
        "def rec_change(t,n):\n",
        "  change_dict[0] = 0\n",
        "  s = 0 #記錄每次找零的面額\n",
        "  for money in range(1,n+1):\n",
        "    num_of_coins = float('inf') #先將1~n的數量都設成無限大\n",
        "\n",
        "    for coin in t:  #循序計算每一種面額\n",
        "      if money >= coin: #假設金額比某一個面額大，則執行以下內容\n",
        "        if change_dict[money-coin]+1 < num_of_coins:  #當change_dict[money-coin]-1的值小於num_of_coins的值，代表這個值在前面有被算過，查字典可知道的最小硬幣數比目前的方案好\n",
        "          num_of_coins = change_dict[money-coin]+1  #因此，將此次金額的num_of_coins的值設定為前面已知的change_dict[money-coin]的值+1(這個1是代表1個本輪的這個面額的硬幣)\n",
        "          s = coin  ##記錄本次找零的面額\n",
        "    s_allList.append(s) # 將1~n的最大零錢面額值儲存到s_allList中\n",
        "    change_dict[money] = num_of_coins #更新字典裡面的資料\n",
        "  \n",
        "  return s_allList, change_dict[n] #回傳s_allList和change_dict[n]的值\n",
        "\n",
        "# n = 多少錢\n",
        "\n",
        "def change(t,n):\n",
        "  s_allList, path_main = rec_change(t,n)\n",
        "  print(\"零錢金額：\",n)\n",
        "  print(\"最少硬幣數：\",path_main)\n",
        "  while ( (n-s_allList[n-1]) >= 0 ): #若要計算的零錢金額n減掉s_allList[n-1](即n的零錢金額運算出的一個最大面額)還大於零，則將n減去s_allList[n-1]後繼續做同樣的運算\n",
        "    s_List.append(s_allList[n-1]) #將此次減去的零錢面額加到s_List中，以供後續print給使用者看\n",
        "    n -= s_allList[n-1]\n",
        "  return s_List #回傳最終s_List的值\n",
        "  \n",
        "\n",
        "# t = 面額\n",
        "t = [25, 20, 5, 1]\n",
        "\n",
        "change_dict={}  #找零的字典，key代表金額，value代表該金額找出的最小硬幣數\n",
        "s_List = []   #用一個陣列來儲存找回的零錢分別是哪些面額\n",
        "n = int(input(\"請輸入零錢金額：\"))  #使用者自行輸入數值\n",
        "s_allList = []  #s_allList儲存1~n的值所需要的最大零錢面額，提供後面印出硬幣面額給使用者看使用\n",
        "print(\"-----計算結果-----\")\n",
        "s_List = change(t, n)\n",
        "print(\"硬幣面額：\", s_List)\n",
        "\n",
        "\n"
      ],
      "execution_count": 68,
      "outputs": [
        {
          "output_type": "stream",
          "text": [
            "請輸入零錢金額：68\n",
            "-----計算結果-----\n",
            "零錢金額： 68\n",
            "最少硬幣數： 6\n",
            "硬幣面額： [25, 20, 20, 1, 1, 1]\n"
          ],
          "name": "stdout"
        }
      ]
    },
    {
      "cell_type": "markdown",
      "metadata": {
        "id": "yvTk0bwCUUY9"
      },
      "source": [
        "小偷偷東西問題：Greedy Algorithm\n",
        "---\n"
      ]
    },
    {
      "cell_type": "markdown",
      "metadata": {
        "id": "HL7xZCsUUfqV"
      },
      "source": [
        "有個小偷帶一個背包到某家商店偷東⻄,他找到n個商品,第i個商品價值Vi元,重Wi\n",
        "公斤,而他帶的背包最多只能裝C公斤的物品,其中Vi、Wi、C都是整數,小偷的背\n",
        "包應該怎麼裝才能帶走最有價值的商品?\n",
        "\n",
        "• 每個商品只有拿走/留著這兩種狀況,\n",
        "\n",
        "• 每個商品不能被切割(如拿1/3個)\n",
        "\n",
        "• 也不能被拿超過一次"
      ]
    },
    {
      "cell_type": "code",
      "metadata": {
        "id": "94y07IWqUpww"
      },
      "source": [
        ""
      ],
      "execution_count": null,
      "outputs": []
    },
    {
      "cell_type": "markdown",
      "metadata": {
        "id": "YoAeBEphUlsq"
      },
      "source": [
        "小偷偷東西問題：DP Algorithm\n",
        "---\n"
      ]
    },
    {
      "cell_type": "code",
      "metadata": {
        "id": "j8wdLGcvUqMb"
      },
      "source": [
        ""
      ],
      "execution_count": null,
      "outputs": []
    }
  ]
}