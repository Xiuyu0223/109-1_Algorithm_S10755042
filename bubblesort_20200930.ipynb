{
  "nbformat": 4,
  "nbformat_minor": 0,
  "metadata": {
    "colab": {
      "name": "bubblesort_20200930.ipynb",
      "provenance": [],
      "collapsed_sections": [],
      "include_colab_link": true
    },
    "kernelspec": {
      "name": "python3",
      "display_name": "Python 3"
    }
  },
  "cells": [
    {
      "cell_type": "markdown",
      "metadata": {
        "id": "view-in-github",
        "colab_type": "text"
      },
      "source": [
        "<a href=\"https://colab.research.google.com/github/Xiuyu0223/109-1_Algorithm_S10755042/blob/master/bubblesort_20200930.ipynb\" target=\"_parent\"><img src=\"https://colab.research.google.com/assets/colab-badge.svg\" alt=\"Open In Colab\"/></a>"
      ]
    },
    {
      "cell_type": "markdown",
      "metadata": {
        "id": "32sgU0StMiof"
      },
      "source": [
        "Bubble sort (氣泡排序)"
      ]
    },
    {
      "cell_type": "code",
      "metadata": {
        "id": "esB_4fSeMLYJ",
        "outputId": "65076355-2b90-4f48-8ab9-c7acc312678f",
        "colab": {
          "base_uri": "https://localhost:8080/",
          "height": 153
        }
      },
      "source": [
        "def Bubble_Sort(datas):\n",
        "    for i in range(1, len(datas)): # \n",
        "        for j in range(len(datas)-i):   # \n",
        "            if datas[j] > datas[j+1]:   # \n",
        "                datas[j], datas[j+1] = datas[j+1], datas[j]\n",
        "    return datas\n",
        "\n",
        "\n",
        "if __name__ == '__main__':\n",
        "    import random\n",
        "    a=[]    #宣告空陣列a，儲存使用者輸入的數列\n",
        "    temp=0   #用來將使用者輸入的數字暫存的變數\n",
        "    while(len(a)<6):  #將數列長度限制在六個數字\n",
        "      temp = int(input(\"請輸入一個數字：\"))   #請使用者輸入數字，並將輸入值型態轉換為整數(str->int)，並將值暫存到temp\n",
        "      a.append(temp)    #將使用者輸入的數字temp，添加到陣列的最末端\n",
        "    print(\"你輸入的六個數字是：\",a)     #輸出數列給使用者看\n",
        "    print(\"氣泡排序後的數列是：\",Bubble_Sort(a))    #輸出氣泡排序後的數列\n"
      ],
      "execution_count": null,
      "outputs": [
        {
          "output_type": "stream",
          "text": [
            "請輸入一個數字：12\n",
            "請輸入一個數字：3\n",
            "請輸入一個數字：21\n",
            "請輸入一個數字：5\n",
            "請輸入一個數字：47\n",
            "請輸入一個數字：1\n",
            "你輸入的六個數字是： [12, 3, 21, 5, 47, 1]\n",
            "氣泡排序後的數列是： [1, 3, 5, 12, 21, 47]\n"
          ],
          "name": "stdout"
        }
      ]
    },
    {
      "cell_type": "markdown",
      "metadata": {
        "id": "MOQ_aZKnM-wL"
      },
      "source": [
        "請加入註解，並將程式修改為加入六個數做氣泡排序\n"
      ]
    }
  ]
}