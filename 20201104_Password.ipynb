{
  "nbformat": 4,
  "nbformat_minor": 0,
  "metadata": {
    "colab": {
      "name": "20201104_Password.ipynb",
      "provenance": [],
      "collapsed_sections": [],
      "authorship_tag": "ABX9TyOuGy68OlKSL5kzHb3NLQ/G",
      "include_colab_link": true
    },
    "kernelspec": {
      "name": "python3",
      "display_name": "Python 3"
    }
  },
  "cells": [
    {
      "cell_type": "markdown",
      "metadata": {
        "id": "view-in-github",
        "colab_type": "text"
      },
      "source": [
        "<a href=\"https://colab.research.google.com/github/Xiuyu0223/109-1_Algorithm_S10755042/blob/master/20201104_Password.ipynb\" target=\"_parent\"><img src=\"https://colab.research.google.com/assets/colab-badge.svg\" alt=\"Open In Colab\"/></a>"
      ]
    },
    {
      "cell_type": "code",
      "metadata": {
        "id": "wtruJd3qHsg6",
        "outputId": "ebd29348-678f-48ae-bc6f-34638cd0830a",
        "colab": {
          "base_uri": "https://localhost:8080/"
        }
      },
      "source": [
        "import random\n",
        "\n",
        "password = random.randint(1,100)\n",
        "min = 1\n",
        "MAX = 100\n",
        "# print(\"密碼：\", password)\n",
        "while(True):\n",
        "    print(\"密碼介於\", min, \" - \", MAX, \":\")\n",
        "    guess = int(input(\"猜一個數字：\"))\n",
        "    if (guess == password):\n",
        "      print(\"猜對了！\")\n",
        "      break\n",
        "    elif ( (guess >= MAX) or (guess <= min) ):\n",
        "      print(\"你猜的\", guess, \"不在範圍中，再來一次吧！\\n\")\n",
        "    elif ( (guess > password) and (guess < MAX) ):\n",
        "      MAX = guess\n",
        "      print(\"這次猜得太大了，再來一次吧！\\n\")\n",
        "    elif ( (guess < password) and (guess > min) ):\n",
        "      min = guess\n",
        "      print(\"這次猜得太小了，再來一次吧！\\n\")\n"
      ],
      "execution_count": 28,
      "outputs": [
        {
          "output_type": "stream",
          "text": [
            "密碼介於 1  -  100 :\n",
            "猜一個數字：50\n",
            "這次猜得太大了，再來一次吧！\n",
            "\n",
            "密碼介於 1  -  50 :\n",
            "猜一個數字：-7\n",
            "你猜的 -7 不在範圍中，再來一次吧！\n",
            "\n",
            "密碼介於 1  -  50 :\n",
            "猜一個數字：100\n",
            "你猜的 100 不在範圍中，再來一次吧！\n",
            "\n",
            "密碼介於 1  -  50 :\n",
            "猜一個數字：20\n",
            "這次猜得太大了，再來一次吧！\n",
            "\n",
            "密碼介於 1  -  20 :\n",
            "猜一個數字：10\n",
            "這次猜得太小了，再來一次吧！\n",
            "\n",
            "密碼介於 10  -  20 :\n",
            "猜一個數字：15\n",
            "這次猜得太小了，再來一次吧！\n",
            "\n",
            "密碼介於 15  -  20 :\n",
            "猜一個數字：18\n",
            "這次猜得太小了，再來一次吧！\n",
            "\n",
            "密碼介於 18  -  20 :\n",
            "猜一個數字：19\n",
            "猜對了！\n"
          ],
          "name": "stdout"
        }
      ]
    }
  ]
}