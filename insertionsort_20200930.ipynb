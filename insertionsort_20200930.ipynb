{
  "nbformat": 4,
  "nbformat_minor": 0,
  "metadata": {
    "colab": {
      "name": "insertionsort_20200930.ipynb",
      "provenance": [],
      "collapsed_sections": [],
      "include_colab_link": true
    },
    "kernelspec": {
      "name": "python3",
      "display_name": "Python 3"
    }
  },
  "cells": [
    {
      "cell_type": "markdown",
      "metadata": {
        "id": "view-in-github",
        "colab_type": "text"
      },
      "source": [
        "<a href=\"https://colab.research.google.com/github/Xiuyu0223/109-1_Algorithm_S10755042/blob/master/insertionsort_20200930.ipynb\" target=\"_parent\"><img src=\"https://colab.research.google.com/assets/colab-badge.svg\" alt=\"Open In Colab\"/></a>"
      ]
    },
    {
      "cell_type": "markdown",
      "metadata": {
        "id": "j95w6SLwOC0z"
      },
      "source": [
        "Insertion sort (插入排序)"
      ]
    },
    {
      "cell_type": "code",
      "metadata": {
        "id": "BxBaYEwzNj_v",
        "outputId": "5831bef9-416e-4ab6-a71b-45128eaca80a",
        "colab": {
          "base_uri": "https://localhost:8080/",
          "height": 208
        }
      },
      "source": [
        "'''\n",
        "def Insertion_Sort(datas):                 \n",
        "    for i in range(1, len(datas)):           \n",
        "        for j in range(i):             \n",
        "            current = datas[i]          \n",
        "            if current < datas[j]:       \n",
        "                for k in range(i,j):    \n",
        "                  print(datas)\n",
        "    return datas                     \n",
        "'''\n",
        "\n",
        "def insertionSort(arr):                           # 執行次數(n:len(arr))\n",
        "    for i in range(len(arr)):                     #  n\n",
        "        preIndex = i-1                       #  n*1\n",
        "        current = arr[i]                      #  n*1\n",
        "        while preIndex >= 0 and arr[preIndex] > current:    #  1+2+3+....+(n-1)=n^2/2\n",
        "            arr[preIndex+1] = arr[preIndex]           #  n^2/2*1\n",
        "            preIndex-=1                      #  n^2/2*1\n",
        "        arr[preIndex+1] = current                  #  n*1\n",
        "        print(arr)\n",
        "    return arr                              #  1\n",
        "\n",
        "if __name__ == '__main__':\n",
        "    import random\n",
        "    a = list(range(10))\n",
        "    random.shuffle(a)\n",
        "    #b = a.copy()\n",
        "\n",
        "\n",
        "    arr = insertionSort(a)\n",
        "    print('---'*10)\n",
        "    \n",
        "    #Insertion_Sort(b)\n",
        "    "
      ],
      "execution_count": null,
      "outputs": [
        {
          "output_type": "stream",
          "text": [
            "[3, 5, 4, 2, 6, 1, 0, 8, 9, 7]\n",
            "[3, 5, 4, 2, 6, 1, 0, 8, 9, 7]\n",
            "[3, 4, 5, 2, 6, 1, 0, 8, 9, 7]\n",
            "[2, 3, 4, 5, 6, 1, 0, 8, 9, 7]\n",
            "[2, 3, 4, 5, 6, 1, 0, 8, 9, 7]\n",
            "[1, 2, 3, 4, 5, 6, 0, 8, 9, 7]\n",
            "[0, 1, 2, 3, 4, 5, 6, 8, 9, 7]\n",
            "[0, 1, 2, 3, 4, 5, 6, 8, 9, 7]\n",
            "[0, 1, 2, 3, 4, 5, 6, 8, 9, 7]\n",
            "[0, 1, 2, 3, 4, 5, 6, 7, 8, 9]\n",
            "------------------------------\n"
          ],
          "name": "stdout"
        }
      ]
    },
    {
      "cell_type": "markdown",
      "metadata": {
        "id": "ggv9q8IXq7pQ"
      },
      "source": [
        "Insertion Sort的時間複雜度為：\n",
        "  n+n*1+n*1+n^2/2+n^2/2*1+n^2/2*1+n*1+1\n",
        "  =(3/2)n^2+4n+1\n",
        "\n",
        "O(n^2)"
      ]
    }
  ]
}