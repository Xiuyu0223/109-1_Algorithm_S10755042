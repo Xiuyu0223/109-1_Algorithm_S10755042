{
  "nbformat": 4,
  "nbformat_minor": 0,
  "metadata": {
    "colab": {
      "name": "20201007_空間時間.ipynb",
      "provenance": [],
      "collapsed_sections": [],
      "authorship_tag": "ABX9TyOgyMNBfDYo6hlZh0M5jh/b",
      "include_colab_link": true
    },
    "kernelspec": {
      "name": "python3",
      "display_name": "Python 3"
    }
  },
  "cells": [
    {
      "cell_type": "markdown",
      "metadata": {
        "id": "view-in-github",
        "colab_type": "text"
      },
      "source": [
        "<a href=\"https://colab.research.google.com/github/Xiuyu0223/109-1_Algorithm_S10755042/blob/master/20201007_%E7%A9%BA%E9%96%93%E6%99%82%E9%96%93.ipynb\" target=\"_parent\"><img src=\"https://colab.research.google.com/assets/colab-badge.svg\" alt=\"Open In Colab\"/></a>"
      ]
    },
    {
      "cell_type": "markdown",
      "metadata": {
        "id": "b1LzZvduC_A0"
      },
      "source": [
        "20201007_作業：**空間換時間、時間換空間**\n",
        "---\n",
        "**舉例：階乘**"
      ]
    },
    {
      "cell_type": "markdown",
      "metadata": {
        "id": "I5f1dx4GDe8D"
      },
      "source": [
        "空間換時間\n",
        "---\n",
        "限制：1~20以內的數\n",
        "\n",
        "說明：將1~20以內的數，1 * 2 * *...* *n的結果儲存到陣列之中，節省程式執行時計算的時間。\n",
        "\n",
        "---\n",
        "**空間複雜度=O(n)**\n",
        "\n",
        "當要將n個數字的階層預先存到數列時，需要長度n的陣列才足夠。\n",
        "\n",
        "**時間複雜度=O(1)**\n",
        "因為在陣列中是由小到大排序，因此想知道n的階層只要直接尋找陣列中索引值為n-1的數即可。\n"
      ]
    },
    {
      "cell_type": "code",
      "metadata": {
        "id": "vLoDDOiwDdyK",
        "outputId": "9b7b7d46-9077-42fb-db8f-a0b7331cbca7",
        "colab": {
          "base_uri": "https://localhost:8080/",
          "height": 50
        }
      },
      "source": [
        "fac=[1,2,6,24,120,720,5040,40320,362880,3628800,39916800,479001600,6227020800,87178291200,1307674368000,20922789888000,355687428096000,6402373705728000,121645100408832000,2432902008176640000]\n",
        "\n",
        "n = int(input(\"請輸入 n = (1~20之間的整數)\"))\n",
        "print(n,\"! = \", fac[n-1])"
      ],
      "execution_count": 18,
      "outputs": [
        {
          "output_type": "stream",
          "text": [
            "請輸入 n = (1~20之間的整數)20\n",
            "20 ! =  2432902008176640000\n"
          ],
          "name": "stdout"
        }
      ]
    },
    {
      "cell_type": "markdown",
      "metadata": {
        "id": "dncJ8biDDelZ"
      },
      "source": [
        "時間換空間\n",
        "---\n",
        "限制：無\n",
        "\n",
        "說明：使用遞洄計算每次1 * 2 * ... *n的結果。\n",
        "\n",
        "---\n",
        "**空間複雜度=O(1)**\n",
        "\n",
        "只使用到n一個變數。\n",
        "\n",
        "**時間複雜度=O(n)**\n",
        "遞迴會執行n-1次"
      ]
    },
    {
      "cell_type": "code",
      "metadata": {
        "id": "juPSnmcfC9_x",
        "outputId": "0754b36a-6cf0-4906-fb5e-ab4a74f2b7e5",
        "colab": {
          "base_uri": "https://localhost:8080/",
          "height": 50
        }
      },
      "source": [
        "def factorial(n):\n",
        "  if n==0 or n == 1:\n",
        "    return 1\n",
        "  else:\n",
        "    return n * factorial(n-1)\n",
        "\n",
        "n = int(input(\"請輸入 n = \"))\n",
        "print(\"使用遞迴計算 \",n,\"! = \", factorial(n))"
      ],
      "execution_count": 12,
      "outputs": [
        {
          "output_type": "stream",
          "text": [
            "請輸入 n = 20\n",
            "使用遞迴計算  20 ! =  2432902008176640000\n"
          ],
          "name": "stdout"
        }
      ]
    }
  ]
}