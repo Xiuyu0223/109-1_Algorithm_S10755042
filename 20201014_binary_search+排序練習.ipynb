{
  "nbformat": 4,
  "nbformat_minor": 0,
  "metadata": {
    "colab": {
      "name": "20201014_binary search+排序練習.ipynb",
      "provenance": [],
      "collapsed_sections": [],
      "authorship_tag": "ABX9TyPglBxYhgi7y7GBRRdhA9Ew",
      "include_colab_link": true
    },
    "kernelspec": {
      "name": "python3",
      "display_name": "Python 3"
    }
  },
  "cells": [
    {
      "cell_type": "markdown",
      "metadata": {
        "id": "view-in-github",
        "colab_type": "text"
      },
      "source": [
        "<a href=\"https://colab.research.google.com/github/Xiuyu0223/109-1_Algorithm_S10755042/blob/master/20201014_binary_search%2B%E6%8E%92%E5%BA%8F%E7%B7%B4%E7%BF%92.ipynb\" target=\"_parent\"><img src=\"https://colab.research.google.com/assets/colab-badge.svg\" alt=\"Open In Colab\"/></a>"
      ]
    },
    {
      "cell_type": "markdown",
      "metadata": {
        "id": "NLHWBzl8AhPn"
      },
      "source": [
        "原本的"
      ]
    },
    {
      "cell_type": "code",
      "metadata": {
        "id": "eLvwvAuK_yhP",
        "outputId": "386481ae-8309-4ef1-be31-f7160a0f8bca",
        "colab": {
          "base_uri": "https://localhost:8080/",
          "height": 34
        }
      },
      "source": [
        "def binarySearch (arr, l, r, x):\n",
        "  if r >= l:\n",
        "    mid = l + (r - 1) // 2\n",
        "    if arr[mid] == x:\n",
        "      return mid\n",
        "    elif arr[mid] > x:\n",
        "      return binarySearch(arr, l, mid-1, x)\n",
        "    else:\n",
        "      return binarySearch(arr, mid+1, r, x)\n",
        "  else:\n",
        "    return -1\n",
        "\n",
        "\n",
        "# Function call\n",
        "result = binarySearch(arr, 0, len(arr)-1, x)\n",
        "if result != -1:\n",
        "  print(\"元素在索引 %d\" %result)\n",
        "else:\n",
        "  print(\"陣列中找不到該元素\")"
      ],
      "execution_count": 3,
      "outputs": [
        {
          "output_type": "stream",
          "text": [
            "元素在索引 2\n"
          ],
          "name": "stdout"
        }
      ]
    },
    {
      "cell_type": "code",
      "metadata": {
        "id": "u23YHOxNEEvr",
        "outputId": "5937a0e0-916d-46c4-ffd7-46010b94c07e",
        "colab": {
          "base_uri": "https://localhost:8080/",
          "height": 202
        }
      },
      "source": [
        "# 二分搜尋法\n",
        "def binarySearch (arr, l, r, x):\n",
        "  if r >= l:\n",
        "    mid = l + (r - 1) // 2\n",
        "    if arr[mid] == x:\n",
        "      return mid\n",
        "    elif arr[mid] > x:\n",
        "      return binarySearch(arr, l, mid-1, x)\n",
        "    else:\n",
        "      return binarySearch(arr, mid+1, r, x)\n",
        "  else:\n",
        "    return -1\n",
        "\n",
        "# 泡沫排序法\n",
        "def Bubble_Sort(datas):\n",
        "    for i in range(1, len(datas)): # \n",
        "        for j in range(len(datas)-i):   # \n",
        "            if datas[j] > datas[j+1]:   # \n",
        "                datas[j], datas[j+1] = datas[j+1], datas[j]\n",
        "    return datas\n",
        "\n",
        "\n",
        "i=0\n",
        "arr=[]\n",
        "print(\"請輸入5個整數值：(每輸入一個按enter)\")\n",
        "while i < 5:\n",
        "  arr.append(int(input()))\n",
        "  i += 1\n",
        "\n",
        "x = int(input(\"請輸入要搜尋的 key value : \"))\n",
        "\n",
        "print(\"原本輸入的5個值是： \", arr)\n",
        "newarr = Bubble_Sort(arr)\n",
        "print(\"排序之後的5個值是： \", newarr)\n",
        "print(\"欲搜尋的 key value 是： \", x)\n",
        "\n",
        "result = binarySearch(newarr, 0, len(newarr)-1, x)\n",
        "if result != -1:\n",
        "  print(\"元素在陣列中，索引值是 %d\" %result)\n",
        "else:\n",
        "  print(\"陣列中找不到該元素\")"
      ],
      "execution_count": 39,
      "outputs": [
        {
          "output_type": "stream",
          "text": [
            "請輸入5個整數值：(每輸入一個按enter)\n",
            "84\n",
            "32\n",
            "66\n",
            "51\n",
            "23\n",
            "請輸入要搜尋的 key value : 51\n",
            "原本輸入的5個值是：  [84, 32, 66, 51, 23]\n",
            "排序之後的5個值是：  [23, 32, 51, 66, 84]\n",
            "欲搜尋的 key value 是：  51\n",
            "元素在陣列中，索引值是 2\n"
          ],
          "name": "stdout"
        }
      ]
    }
  ]
}