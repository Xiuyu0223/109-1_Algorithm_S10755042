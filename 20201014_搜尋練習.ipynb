{
  "nbformat": 4,
  "nbformat_minor": 0,
  "metadata": {
    "colab": {
      "name": "20201014_搜尋練習.ipynb",
      "provenance": [],
      "collapsed_sections": [],
      "authorship_tag": "ABX9TyM1DTbTTRzSdk2eAgJHz1Wb",
      "include_colab_link": true
    },
    "kernelspec": {
      "name": "python3",
      "display_name": "Python 3"
    }
  },
  "cells": [
    {
      "cell_type": "markdown",
      "metadata": {
        "id": "view-in-github",
        "colab_type": "text"
      },
      "source": [
        "<a href=\"https://colab.research.google.com/github/Xiuyu0223/109-1_Algorithm_S10755042/blob/master/20201014_%E6%90%9C%E5%B0%8B%E7%B7%B4%E7%BF%92.ipynb\" target=\"_parent\"><img src=\"https://colab.research.google.com/assets/colab-badge.svg\" alt=\"Open In Colab\"/></a>"
      ]
    },
    {
      "cell_type": "markdown",
      "metadata": {
        "id": "RLZQHrz-2Gqs"
      },
      "source": [
        "原本的："
      ]
    },
    {
      "cell_type": "code",
      "metadata": {
        "id": "OCvNlrxI1gbW",
        "outputId": "9899e252-9985-460f-ffab-8be45a1495d5",
        "colab": {
          "base_uri": "https://localhost:8080/",
          "height": 34
        }
      },
      "source": [
        "data = [20,31,50,17,16,36,19,8]\n",
        "def sequential_search(data,key):\n",
        "  for i in data:\n",
        "    if i == key:\n",
        "      print(\"找到了\")\n",
        "      break\n",
        "sequential_search(data,31)"
      ],
      "execution_count": 19,
      "outputs": [
        {
          "output_type": "stream",
          "text": [
            "找到了\n"
          ],
          "name": "stdout"
        }
      ]
    },
    {
      "cell_type": "code",
      "metadata": {
        "id": "kkdwTvpg2K5I",
        "outputId": "a97c0dd3-887c-4f0a-dc8f-1aa17333e312",
        "colab": {
          "base_uri": "https://localhost:8080/",
          "height": 101
        }
      },
      "source": [
        "data = [20,31,50,17,16,36,19,8]\n",
        "check = True\n",
        "def sequential_search(data,key):\n",
        "  for i in data:\n",
        "    if i == key:\n",
        "      print(\"找到了\")\n",
        "      check = True\n",
        "      break\n",
        "    else:\n",
        "      check = False\n",
        "  if check == False:\n",
        "    print(\"找不到\")\n",
        "      \n",
        "sequential_search(data,99)\n",
        "sequential_search(data,17)\n",
        "sequential_search(data,8)\n",
        "sequential_search(data,20)\n",
        "sequential_search(data,33)"
      ],
      "execution_count": 51,
      "outputs": [
        {
          "output_type": "stream",
          "text": [
            "找不到\n",
            "找到了\n",
            "找到了\n",
            "找到了\n",
            "找不到\n"
          ],
          "name": "stdout"
        }
      ]
    }
  ]
}