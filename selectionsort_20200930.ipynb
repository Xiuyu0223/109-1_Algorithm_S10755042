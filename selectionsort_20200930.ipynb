{
  "nbformat": 4,
  "nbformat_minor": 0,
  "metadata": {
    "colab": {
      "name": "selectionsort_20200930.ipynb",
      "provenance": [],
      "collapsed_sections": [],
      "include_colab_link": true
    },
    "kernelspec": {
      "name": "python3",
      "display_name": "Python 3"
    }
  },
  "cells": [
    {
      "cell_type": "markdown",
      "metadata": {
        "id": "view-in-github",
        "colab_type": "text"
      },
      "source": [
        "<a href=\"https://colab.research.google.com/github/Xiuyu0223/109-1_Algorithm_S10755042/blob/master/selectionsort_20200930.ipynb\" target=\"_parent\"><img src=\"https://colab.research.google.com/assets/colab-badge.svg\" alt=\"Open In Colab\"/></a>"
      ]
    },
    {
      "cell_type": "markdown",
      "metadata": {
        "id": "W-Z0kMaDLJOp"
      },
      "source": [
        "Selection sort (選擇排序)"
      ]
    },
    {
      "cell_type": "code",
      "metadata": {
        "id": "8tM3sv79HQ_V",
        "outputId": "549de195-c701-4e06-fdc9-87c7fa01371d",
        "colab": {
          "base_uri": "https://localhost:8080/",
          "height": 372
        }
      },
      "source": [
        "def Selction_Sort(datas):                                    # 執行次數(n:len(datas))\n",
        "    for i in range(len(datas)-1):                             #   n-1\n",
        "        min = i # 第一次選從第一個數開始,第二次從第二個數開始             #  (n-1)*1\n",
        "        for j in range(i+1, len(datas)):    # 用記錄的max數與其他的比較     #  (n-1)*(n-1)\n",
        "            if datas[j] < datas[min]:                       #  (n-1)*(n-1)*1\n",
        "                min = j                             #  (n-1)*(n-1)*1*1\n",
        "        datas[i], datas[min] = datas[min], datas[i]                 #  (n-1)*1\n",
        "\n",
        "        print(datas)\n",
        "        print('---'*10)\n",
        "    return datas                                      #   1\n",
        "\n",
        "\n",
        "if __name__ == '__main__':\n",
        "    import random\n",
        "    a = list(range(10))\n",
        "    random.shuffle(a)\n",
        "    print(a)\n",
        "    a = Selction_Sort(a)\n",
        "    print(a)"
      ],
      "execution_count": null,
      "outputs": [
        {
          "output_type": "stream",
          "text": [
            "[7, 6, 4, 9, 2, 3, 5, 1, 8, 0]\n",
            "[0, 6, 4, 9, 2, 3, 5, 1, 8, 7]\n",
            "------------------------------\n",
            "[0, 1, 4, 9, 2, 3, 5, 6, 8, 7]\n",
            "------------------------------\n",
            "[0, 1, 2, 9, 4, 3, 5, 6, 8, 7]\n",
            "------------------------------\n",
            "[0, 1, 2, 3, 4, 9, 5, 6, 8, 7]\n",
            "------------------------------\n",
            "[0, 1, 2, 3, 4, 9, 5, 6, 8, 7]\n",
            "------------------------------\n",
            "[0, 1, 2, 3, 4, 5, 9, 6, 8, 7]\n",
            "------------------------------\n",
            "[0, 1, 2, 3, 4, 5, 6, 9, 8, 7]\n",
            "------------------------------\n",
            "[0, 1, 2, 3, 4, 5, 6, 7, 8, 9]\n",
            "------------------------------\n",
            "[0, 1, 2, 3, 4, 5, 6, 7, 8, 9]\n",
            "------------------------------\n",
            "[0, 1, 2, 3, 4, 5, 6, 7, 8, 9]\n"
          ],
          "name": "stdout"
        }
      ]
    },
    {
      "cell_type": "markdown",
      "metadata": {
        "id": "b8IcLFJ--fiP"
      },
      "source": [
        "Selection_Sort(datas)的時間複雜度：\n",
        "  (n-1)+[(n-1)*1]+[(n-1)*(n-1)]+[(n-1)*(n-1)*1]+[(n-1)*(n-1)*1*1]+[(n-1)*1]\n",
        "  = 3(n-1)+3(n-1)^2\n",
        "  = 3n-3+3(n^2-2n+1)\n",
        "  = **3n^2-3n**"
      ]
    },
    {
      "cell_type": "markdown",
      "metadata": {
        "id": "MiWPt8bALDN5"
      },
      "source": [
        "請加入註解\n"
      ]
    }
  ]
}