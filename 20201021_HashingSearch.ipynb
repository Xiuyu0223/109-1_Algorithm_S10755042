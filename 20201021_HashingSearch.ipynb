{
  "nbformat": 4,
  "nbformat_minor": 0,
  "metadata": {
    "colab": {
      "name": "20201021_HashingSearch.ipynb",
      "provenance": [],
      "collapsed_sections": [],
      "authorship_tag": "ABX9TyOuol5YL3XykdcVPGlL9Tcu",
      "include_colab_link": true
    },
    "kernelspec": {
      "name": "python3",
      "display_name": "Python 3"
    }
  },
  "cells": [
    {
      "cell_type": "markdown",
      "metadata": {
        "id": "view-in-github",
        "colab_type": "text"
      },
      "source": [
        "<a href=\"https://colab.research.google.com/github/Xiuyu0223/109-1_Algorithm_S10755042/blob/master/20201021_HashingSearch.ipynb\" target=\"_parent\"><img src=\"https://colab.research.google.com/assets/colab-badge.svg\" alt=\"Open In Colab\"/></a>"
      ]
    },
    {
      "cell_type": "markdown",
      "metadata": {
        "id": "-pdLrPDTvUHF"
      },
      "source": [
        "**線性探測法(原本的)**\n",
        "\n",
        "當H(num) = num mod INDEXBOX 產生碰撞時，往下一格置放num，直到找到空的位置為止。\n",
        "\n",
        "程式碼如下："
      ]
    },
    {
      "cell_type": "code",
      "metadata": {
        "id": "NY1tBq3AvNGP",
        "outputId": "e8b19343-a582-47d6-d72e-6bbe8aebf384",
        "colab": {
          "base_uri": "https://localhost:8080/",
          "height": 233
        }
      },
      "source": [
        "import random\n",
        "\n",
        "INDEXBOX = 10\n",
        "MAXNUM = 7\n",
        "\n",
        "def print_data(data, max_number):\n",
        "    print('\\t', end='')\n",
        "    for i in range(max_number):\n",
        "      print('[%2d]' %data[i], end='')\n",
        "    print()\n",
        "def create_table(num, index):\n",
        "  tmp = num%INDEXBOX\n",
        "  while True:\n",
        "    if index[tmp] == -1:\n",
        "      index[tmp] = num\n",
        "      break\n",
        "    else:\n",
        "      tmp = (tmp + 1) % INDEXBOX\n",
        "      \n",
        "index = [None] * INDEXBOX\n",
        "data = [None] * MAXNUM\n",
        "print(\"【線性探測法】\")\n",
        "print(\"原始陣列值：\")\n",
        "for i in range (MAXNUM):\n",
        "  data[i] = random.randint(1,20)\n",
        "for i in range (INDEXBOX):\n",
        "  index[i] = -1\n",
        "print_data(data, MAXNUM)\n",
        "\n",
        "print(\"雜湊表內容：\")\n",
        "for i in range (MAXNUM):\n",
        "  create_table(data[i], index)\n",
        "  print('%2d => ' %data[i], end='')\n",
        "  print_data(index,INDEXBOX)\n",
        "\n",
        "print(\"完成雜湊表\")\n",
        "print_data(index, INDEXBOX)"
      ],
      "execution_count": null,
      "outputs": [
        {
          "output_type": "stream",
          "text": [
            "【線性探測法】\n",
            "原始陣列值：\n",
            "\t[ 4][11][10][14][18][18][19]\n",
            "雜湊表內容：\n",
            " 4 => \t[-1][-1][-1][-1][ 4][-1][-1][-1][-1][-1]\n",
            "11 => \t[-1][11][-1][-1][ 4][-1][-1][-1][-1][-1]\n",
            "10 => \t[10][11][-1][-1][ 4][-1][-1][-1][-1][-1]\n",
            "14 => \t[10][11][-1][-1][ 4][14][-1][-1][-1][-1]\n",
            "18 => \t[10][11][-1][-1][ 4][14][-1][-1][18][-1]\n",
            "18 => \t[10][11][-1][-1][ 4][14][-1][-1][18][18]\n",
            "19 => \t[10][11][19][-1][ 4][14][-1][-1][18][18]\n",
            "完成雜湊表\n",
            "\t[10][11][19][-1][ 4][14][-1][-1][18][18]\n"
          ],
          "name": "stdout"
        }
      ]
    },
    {
      "cell_type": "markdown",
      "metadata": {
        "id": "e5-QliLbOzkg"
      },
      "source": [
        "**平方探測法**\n",
        "\n",
        "當H(num) = num mod INDEXBOX 產生第一次碰撞時，往後找尋 (num+1^2) mod INDEXBOX的位置；若產生第二次碰撞，則往後找尋 (num+2^2) mod INDEXBOX的位置；若產生第n次碰撞，則往後找尋 (num+n^2) mod INDEXBOX的位置，直到找到空位為止。\n",
        "\n",
        "程式碼如下："
      ]
    },
    {
      "cell_type": "code",
      "metadata": {
        "id": "G-ygAKo7FHjP",
        "outputId": "096a217b-6099-4b2e-e7c8-4b0c23ff024a",
        "colab": {
          "base_uri": "https://localhost:8080/",
          "height": 235
        }
      },
      "source": [
        "import random\n",
        "\n",
        "INDEXBOX = 10\n",
        "MAXNUM = 7\n",
        "\n",
        "def print_data(data, max_number):\n",
        "    print('\\t', end='')\n",
        "    for i in range(max_number):\n",
        "      print('[%2d]' %data[i], end='')\n",
        "    print()\n",
        "def create_table(num, index):\n",
        "  crash = 1\n",
        "  tmp = num%INDEXBOX\n",
        "  while True:\n",
        "    if index[tmp] == -1:\n",
        "      index[tmp] = num\n",
        "      break\n",
        "    else:\n",
        "      tmp = (tmp + (crash**2)-((crash-1)**2)) % INDEXBOX\n",
        "      crash += 1\n",
        "\n",
        "index = [None] * INDEXBOX\n",
        "data = [None] * MAXNUM\n",
        "print(\"【平方探測法】\")\n",
        "print(\"原始陣列值：\")\n",
        "for i in range (MAXNUM):\n",
        "  data[i] = random.randint(1,20)\n",
        "for i in range (INDEXBOX):\n",
        "  index[i] = -1\n",
        "print_data(data, MAXNUM)\n",
        "\n",
        "print(\"雜湊表內容：\")\n",
        "for i in range (MAXNUM):\n",
        "  create_table(data[i], index)\n",
        "  print('%2d => ' %data[i], end='')\n",
        "  print_data(index,INDEXBOX)\n",
        "\n",
        "print(\"完成雜湊表\")\n",
        "print_data(index, INDEXBOX)"
      ],
      "execution_count": null,
      "outputs": [
        {
          "output_type": "stream",
          "text": [
            "【平方探測法】\n",
            "原始陣列值：\n",
            "\t[ 3][ 1][16][ 9][ 2][ 1][ 4]\n",
            "雜湊表內容：\n",
            " 3 => \t[-1][-1][-1][ 3][-1][-1][-1][-1][-1][-1]\n",
            " 1 => \t[-1][ 1][-1][ 3][-1][-1][-1][-1][-1][-1]\n",
            "16 => \t[-1][ 1][-1][ 3][-1][-1][16][-1][-1][-1]\n",
            " 9 => \t[-1][ 1][-1][ 3][-1][-1][16][-1][-1][ 9]\n",
            " 2 => \t[-1][ 1][ 2][ 3][-1][-1][16][-1][-1][ 9]\n",
            " 1 => \t[-1][ 1][ 2][ 3][-1][ 1][16][-1][-1][ 9]\n",
            " 4 => \t[-1][ 1][ 2][ 3][ 4][ 1][16][-1][-1][ 9]\n",
            "完成雜湊表\n",
            "\t[-1][ 1][ 2][ 3][ 4][ 1][16][-1][-1][ 9]\n"
          ],
          "name": "stdout"
        }
      ]
    },
    {
      "cell_type": "markdown",
      "metadata": {
        "id": "rk7Ek_JYPKAP"
      },
      "source": [
        "**再雜湊法**\n",
        "\n",
        "假設有n組雜湊函數H1, H2, H3, ..., Hn，當溢位發生時依序使用H1, H2, ...，直到沒有溢位為止。\n",
        "\n",
        "設\n",
        "\n",
        "H1(num)=(num+2) mod INDEXBOX\n",
        "\n",
        "H2(num)=(num+4) mod INDEXBOX\n",
        "\n",
        "H3(num)=(num+6) mod INDEXBOX\n",
        "\n",
        "Hn(num)=(num+2*n) mod INDEXBOX\n",
        "\n",
        "程式碼如下："
      ]
    },
    {
      "cell_type": "code",
      "metadata": {
        "id": "kl6w0fE_PIuX",
        "outputId": "07487777-08d4-41e6-af7b-6877da5ba747",
        "colab": {
          "base_uri": "https://localhost:8080/",
          "height": 233
        }
      },
      "source": [
        "import random\n",
        "\n",
        "INDEXBOX = 10\n",
        "MAXNUM = 7\n",
        "\n",
        "def print_data(data, max_number):\n",
        "    print('\\t', end='')\n",
        "    for i in range(max_number):\n",
        "      print('[%2d]' %data[i], end='')\n",
        "    print()\n",
        "def create_table(num, index):\n",
        "  tmp = num%INDEXBOX\n",
        "  n=1\n",
        "  while True:\n",
        "    if index[tmp] == -1:\n",
        "      index[tmp] = num\n",
        "      break\n",
        "    else:\n",
        "      tmp = (num + 2*n) % INDEXBOX\n",
        "      n += 1\n",
        "      \n",
        "index = [None] * INDEXBOX\n",
        "data = [None] * MAXNUM\n",
        "print(\"【再雜湊法】\")\n",
        "print(\"原始陣列值：\")\n",
        "for i in range (MAXNUM):\n",
        "  data[i] = random.randint(1,20)\n",
        "for i in range (INDEXBOX):\n",
        "  index[i] = -1\n",
        "print_data(data, MAXNUM)\n",
        "\n",
        "print(\"雜湊表內容：\")\n",
        "for i in range (MAXNUM):\n",
        "  create_table(data[i], index)\n",
        "  print('%2d => ' %data[i], end='')\n",
        "  print_data(index,INDEXBOX)\n",
        "\n",
        "print(\"完成雜湊表\")\n",
        "print_data(index, INDEXBOX)"
      ],
      "execution_count": 9,
      "outputs": [
        {
          "output_type": "stream",
          "text": [
            "【再雜湊法】\n",
            "原始陣列值：\n",
            "\t[ 4][ 6][14][11][ 9][17][ 4]\n",
            "雜湊表內容：\n",
            " 4 => \t[-1][-1][-1][-1][ 4][-1][-1][-1][-1][-1]\n",
            " 6 => \t[-1][-1][-1][-1][ 4][-1][ 6][-1][-1][-1]\n",
            "14 => \t[-1][-1][-1][-1][ 4][-1][ 6][-1][14][-1]\n",
            "11 => \t[-1][11][-1][-1][ 4][-1][ 6][-1][14][-1]\n",
            " 9 => \t[-1][11][-1][-1][ 4][-1][ 6][-1][14][ 9]\n",
            "17 => \t[-1][11][-1][-1][ 4][-1][ 6][17][14][ 9]\n",
            " 4 => \t[ 4][11][-1][-1][ 4][-1][ 6][17][14][ 9]\n",
            "完成雜湊表\n",
            "\t[ 4][11][-1][-1][ 4][-1][ 6][17][14][ 9]\n"
          ],
          "name": "stdout"
        }
      ]
    }
  ]
}