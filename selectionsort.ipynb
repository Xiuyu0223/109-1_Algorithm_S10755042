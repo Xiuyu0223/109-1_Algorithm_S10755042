{
  "nbformat": 4,
  "nbformat_minor": 0,
  "metadata": {
    "colab": {
      "name": "selectionsort.ipynb",
      "provenance": [],
      "collapsed_sections": [],
      "include_colab_link": true
    },
    "kernelspec": {
      "name": "python3",
      "display_name": "Python 3"
    }
  },
  "cells": [
    {
      "cell_type": "markdown",
      "metadata": {
        "id": "view-in-github",
        "colab_type": "text"
      },
      "source": [
        "<a href=\"https://colab.research.google.com/github/Xiuyu0223/109-1_Algorithm_S10755042/blob/master/selectionsort.ipynb\" target=\"_parent\"><img src=\"https://colab.research.google.com/assets/colab-badge.svg\" alt=\"Open In Colab\"/></a>"
      ]
    },
    {
      "cell_type": "markdown",
      "metadata": {
        "id": "W-Z0kMaDLJOp"
      },
      "source": [
        "Selection sort (選擇排序)"
      ]
    },
    {
      "cell_type": "code",
      "metadata": {
        "id": "8tM3sv79HQ_V",
        "outputId": "f15e2c25-fd8f-4f14-957c-86123944a88e",
        "colab": {
          "base_uri": "https://localhost:8080/",
          "height": 572
        }
      },
      "source": [
        "def Selction_Sort(datas):\n",
        "    for i in range(len(datas)-1):\n",
        "        min = i # 第一次選從第一個數開始,第二次從第二個數開始\n",
        "        for j in range(i+1, len(datas)):    # 用記錄的max數與其他的比較\n",
        "            if datas[j] < datas[min]:\n",
        "                min = j\n",
        "\n",
        "        datas[i], datas[min] = datas[min], datas[i]\n",
        "\n",
        "        print(datas)\n",
        "        print('---'*10)\n",
        "    return datas\n",
        "\n",
        "\n",
        "if __name__ == '__main__':\n",
        "    import random\n",
        "    a = list(range(16))\n",
        "    random.shuffle(a)\n",
        "    print(a)\n",
        "    a = Selction_Sort(a)\n",
        "    print(a)"
      ],
      "execution_count": 2,
      "outputs": [
        {
          "output_type": "stream",
          "text": [
            "[12, 15, 10, 4, 0, 9, 6, 7, 14, 8, 5, 13, 2, 1, 3, 11]\n",
            "[0, 15, 10, 4, 12, 9, 6, 7, 14, 8, 5, 13, 2, 1, 3, 11]\n",
            "------------------------------\n",
            "[0, 1, 10, 4, 12, 9, 6, 7, 14, 8, 5, 13, 2, 15, 3, 11]\n",
            "------------------------------\n",
            "[0, 1, 2, 4, 12, 9, 6, 7, 14, 8, 5, 13, 10, 15, 3, 11]\n",
            "------------------------------\n",
            "[0, 1, 2, 3, 12, 9, 6, 7, 14, 8, 5, 13, 10, 15, 4, 11]\n",
            "------------------------------\n",
            "[0, 1, 2, 3, 4, 9, 6, 7, 14, 8, 5, 13, 10, 15, 12, 11]\n",
            "------------------------------\n",
            "[0, 1, 2, 3, 4, 5, 6, 7, 14, 8, 9, 13, 10, 15, 12, 11]\n",
            "------------------------------\n",
            "[0, 1, 2, 3, 4, 5, 6, 7, 14, 8, 9, 13, 10, 15, 12, 11]\n",
            "------------------------------\n",
            "[0, 1, 2, 3, 4, 5, 6, 7, 14, 8, 9, 13, 10, 15, 12, 11]\n",
            "------------------------------\n",
            "[0, 1, 2, 3, 4, 5, 6, 7, 8, 14, 9, 13, 10, 15, 12, 11]\n",
            "------------------------------\n",
            "[0, 1, 2, 3, 4, 5, 6, 7, 8, 9, 14, 13, 10, 15, 12, 11]\n",
            "------------------------------\n",
            "[0, 1, 2, 3, 4, 5, 6, 7, 8, 9, 10, 13, 14, 15, 12, 11]\n",
            "------------------------------\n",
            "[0, 1, 2, 3, 4, 5, 6, 7, 8, 9, 10, 11, 14, 15, 12, 13]\n",
            "------------------------------\n",
            "[0, 1, 2, 3, 4, 5, 6, 7, 8, 9, 10, 11, 12, 15, 14, 13]\n",
            "------------------------------\n",
            "[0, 1, 2, 3, 4, 5, 6, 7, 8, 9, 10, 11, 12, 13, 14, 15]\n",
            "------------------------------\n",
            "[0, 1, 2, 3, 4, 5, 6, 7, 8, 9, 10, 11, 12, 13, 14, 15]\n",
            "------------------------------\n",
            "[0, 1, 2, 3, 4, 5, 6, 7, 8, 9, 10, 11, 12, 13, 14, 15]\n"
          ],
          "name": "stdout"
        }
      ]
    },
    {
      "cell_type": "markdown",
      "metadata": {
        "id": "MiWPt8bALDN5"
      },
      "source": [
        "請加入註解\n"
      ]
    }
  ]
}