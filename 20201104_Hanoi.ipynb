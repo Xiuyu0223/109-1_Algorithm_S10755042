{
  "nbformat": 4,
  "nbformat_minor": 0,
  "metadata": {
    "colab": {
      "name": "「20201104_Hanoi.ipynb」的副本",
      "provenance": [],
      "authorship_tag": "ABX9TyNNKMkuZ0mbl7sCg5inT+lb",
      "include_colab_link": true
    },
    "kernelspec": {
      "name": "python3",
      "display_name": "Python 3"
    }
  },
  "cells": [
    {
      "cell_type": "markdown",
      "metadata": {
        "id": "view-in-github",
        "colab_type": "text"
      },
      "source": [
        "<a href=\"https://colab.research.google.com/github/Xiuyu0223/109-1_Algorithm_S10755042/blob/master/20201104_Hanoi.ipynb\" target=\"_parent\"><img src=\"https://colab.research.google.com/assets/colab-badge.svg\" alt=\"Open In Colab\"/></a>"
      ]
    },
    {
      "cell_type": "code",
      "metadata": {
        "id": "1mfKCTGD84z6",
        "outputId": "591dcddb-8828-4c41-eb7e-996ca081d19d",
        "colab": {
          "base_uri": "https://localhost:8080/"
        }
      },
      "source": [
        "def hanoi(n, A, B, C):\n",
        "    if n == 1:\n",
        "        return [(A, C)]\n",
        "    else:\n",
        "        return hanoi(n-1, A, C, B) + hanoi(1, A, B, C) + hanoi(n-1, B, A, C)\n",
        "a = 0\n",
        "n = 5\n",
        "\n",
        "print(\"移動步驟：\")\n",
        "for move in hanoi(int(n), 'A', 'B', 'C'):\n",
        "    a += 1\n",
        "    print(\"%c -> %c\" % move, \"  移動步數 = \", a)\n",
        "    \n"
      ],
      "execution_count": null,
      "outputs": [
        {
          "output_type": "stream",
          "text": [
            "移動步驟：\n",
            "A -> C   移動步數 =  1\n",
            "A -> B   移動步數 =  2\n",
            "C -> B   移動步數 =  3\n",
            "A -> C   移動步數 =  4\n",
            "B -> A   移動步數 =  5\n",
            "B -> C   移動步數 =  6\n",
            "A -> C   移動步數 =  7\n",
            "A -> B   移動步數 =  8\n",
            "C -> B   移動步數 =  9\n",
            "C -> A   移動步數 =  10\n",
            "B -> A   移動步數 =  11\n",
            "C -> B   移動步數 =  12\n",
            "A -> C   移動步數 =  13\n",
            "A -> B   移動步數 =  14\n",
            "C -> B   移動步數 =  15\n",
            "A -> C   移動步數 =  16\n",
            "B -> A   移動步數 =  17\n",
            "B -> C   移動步數 =  18\n",
            "A -> C   移動步數 =  19\n",
            "B -> A   移動步數 =  20\n",
            "C -> B   移動步數 =  21\n",
            "C -> A   移動步數 =  22\n",
            "B -> A   移動步數 =  23\n",
            "B -> C   移動步數 =  24\n",
            "A -> C   移動步數 =  25\n",
            "A -> B   移動步數 =  26\n",
            "C -> B   移動步數 =  27\n",
            "A -> C   移動步數 =  28\n",
            "B -> A   移動步數 =  29\n",
            "B -> C   移動步數 =  30\n",
            "A -> C   移動步數 =  31\n"
          ],
          "name": "stdout"
        }
      ]
    }
  ]
}